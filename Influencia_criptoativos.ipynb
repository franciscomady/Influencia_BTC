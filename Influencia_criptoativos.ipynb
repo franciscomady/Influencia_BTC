{
 "cells": [
  {
   "cell_type": "markdown",
   "id": "36c7258c",
   "metadata": {},
   "source": [
    "### Instalando as Bibliotecas"
   ]
  },
  {
   "cell_type": "code",
   "execution_count": 2,
   "id": "085e27e3",
   "metadata": {
    "collapsed": true
   },
   "outputs": [
    {
     "name": "stdout",
     "output_type": "stream",
     "text": [
     
     ]
    }
   ],
   "source": [
    "pip install python-binance"
   ]
  },
  {
   "cell_type": "code",
   "execution_count": 3,
   "id": "fc60cb30",
   "metadata": {
    "collapsed": true
   },
   "outputs": [
    {
     "name": "stdout",
     "output_type": "stream",
     "text": [
     ]
    }
   ],
   "source": [
    "pip install sweetviz"
   ]
  },
  {
   "cell_type": "markdown",
   "id": "65439de5",
   "metadata": {},
   "source": [
    "### Importando as Bibliotecas"
   ]
  },
  {
   "cell_type": "code",
   "execution_count": 4,
   "id": "274679d9",
   "metadata": {},
   "outputs": [],
   "source": [
    "import pandas as pd\n",
    "import matplotlib.pyplot as plt\n",
    "import seaborn as sns \n",
    "import numpy as sns\n",
    "import sweetviz as sv"
   ]
  },
  {
   "cell_type": "markdown",
   "id": "3f03e775",
   "metadata": {},
   "source": [
    "### Colocando os parâmentros da API Binance "
   ]
  },
  {
   "cell_type": "code",
   "execution_count": 5,
   "id": "70bcb251",
   "metadata": {},
   "outputs": [],
   "source": [
    "from binance.client import Client\n",
    "api_key = \"SUA CHAVE API\"\n",
    "api_secret = \"SUA CHAVE API\"\n",
    "client = Client(api_key,api_secret)"
   ]
  },
  {
   "cell_type": "markdown",
   "id": "7618c693",
   "metadata": {},
   "source": [
    "## BTC"
   ]
  },
  {
   "cell_type": "markdown",
   "id": "aad4f419",
   "metadata": {},
   "source": [
    "### Importando dados do BTC"
   ]
  },
  {
   "cell_type": "code",
   "execution_count": 6,
   "id": "91f84308",
   "metadata": {
    "collapsed": true
   },
   "outputs": [
    {
     "data": {
      "text/plain": [
      ]
     },
     "execution_count": 6,
     "metadata": {},
     "output_type": "execute_result"
    }
   ],
   "source": [
    "btc = client.get_historical_klines(\"BTCUSDT\", Client.KLINE_INTERVAL_15MINUTE, \"1 Jan, 2017\")\n",
    "btc"
   ]
  },
  {
   "cell_type": "markdown",
   "id": "45736dc3",
   "metadata": {},
   "source": [
    "### Realizando a otimização do DataFrame"
   ]
  },
  {
   "cell_type": "markdown",
   "id": "dc7a54fb",
   "metadata": {},
   "source": [
    "1) Definimos a variável\n",
    "2) Usamos o iloc para selecionar as linhas e colunas\n",
    "3) Colocamos nome nas colunas\n",
    "4) Definimos a coluna \"Time\" como index\n",
    "5) Convertemos o índice (coluna \"Time\") para o formato de data e hora e adicionamos o parametro de milisegundos\n",
    "6) COnvertemos o valores para float\n",
    "7) Excluimos a primeira linha do DataFrame"
   ]
  },
  {
   "cell_type": "code",
   "execution_count": 7,
   "id": "fee8f7e3",
   "metadata": {
    "collapsed": true
   },
   "outputs": [
    {
     "data": {
      "text/html": [
       "<div>\n",
       "<style scoped>\n",
       "    .dataframe tbody tr th:only-of-type {\n",
       "        vertical-align: middle;\n",
       "    }\n",
       "\n",
       "    .dataframe tbody tr th {\n",
       "        vertical-align: top;\n",
       "    }\n",
       "\n",
       "    .dataframe thead th {\n",
       "        text-align: right;\n",
       "    }\n",
       "</style>\n",
       "<table border=\"1\" class=\"dataframe\">\n",
       "  <thead>\n",
       "    <tr style=\"text-align: right;\">\n",
       "      <th></th>\n",
       "      <th>Open</th>\n",
       "      <th>High</th>\n",
       "      <th>Low</th>\n",
       "      <th>Close</th>\n",
       "      <th>Volume</th>\n",
       "    </tr>\n",
       "    <tr>\n",
       "      <th>Time</th>\n",
       "      <th></th>\n",
       "      <th></th>\n",
       "      <th></th>\n",
       "      <th></th>\n",
       "      <th></th>\n",
       "    </tr>\n",
       "  </thead>\n",
       "  <tbody>\n",
       "    <tr>\n",
       "      <th>2017-08-17 04:15:00</th>\n",
       "      <td>4261.48</td>\n",
       "      <td>4270.41</td>\n",
       "      <td>4261.32</td>\n",
       "      <td>4261.45</td>\n",
       "      <td>9.119865</td>\n",
       "    </tr>\n",
       "    <tr>\n",
       "      <th>2017-08-17 04:30:00</th>\n",
       "      <td>4280.00</td>\n",
       "      <td>4310.07</td>\n",
       "      <td>4267.99</td>\n",
       "      <td>4310.07</td>\n",
       "      <td>21.923552</td>\n",
       "    </tr>\n",
       "    <tr>\n",
       "      <th>2017-08-17 04:45:00</th>\n",
       "      <td>4310.07</td>\n",
       "      <td>4313.62</td>\n",
       "      <td>4291.37</td>\n",
       "      <td>4308.83</td>\n",
       "      <td>13.948531</td>\n",
       "    </tr>\n",
       "    <tr>\n",
       "      <th>2017-08-17 05:00:00</th>\n",
       "      <td>4308.83</td>\n",
       "      <td>4328.69</td>\n",
       "      <td>4304.31</td>\n",
       "      <td>4304.31</td>\n",
       "      <td>5.101153</td>\n",
       "    </tr>\n",
       "    <tr>\n",
       "      <th>2017-08-17 05:15:00</th>\n",
       "      <td>4320.00</td>\n",
       "      <td>4320.00</td>\n",
       "      <td>4312.14</td>\n",
       "      <td>4320.00</td>\n",
       "      <td>15.947495</td>\n",
       "    </tr>\n",
       "    <tr>\n",
       "      <th>...</th>\n",
       "      <td>...</td>\n",
       "      <td>...</td>\n",
       "      <td>...</td>\n",
       "      <td>...</td>\n",
       "      <td>...</td>\n",
       "    </tr>\n",
       "    <tr>\n",
       "      <th>2024-05-14 18:45:00</th>\n",
       "      <td>61383.67</td>\n",
       "      <td>61454.55</td>\n",
       "      <td>61360.13</td>\n",
       "      <td>61429.99</td>\n",
       "      <td>114.040440</td>\n",
       "    </tr>\n",
       "    <tr>\n",
       "      <th>2024-05-14 19:00:00</th>\n",
       "      <td>61430.00</td>\n",
       "      <td>61498.00</td>\n",
       "      <td>61397.20</td>\n",
       "      <td>61462.14</td>\n",
       "      <td>110.609470</td>\n",
       "    </tr>\n",
       "    <tr>\n",
       "      <th>2024-05-14 19:15:00</th>\n",
       "      <td>61462.14</td>\n",
       "      <td>61635.92</td>\n",
       "      <td>61425.26</td>\n",
       "      <td>61630.20</td>\n",
       "      <td>154.080710</td>\n",
       "    </tr>\n",
       "    <tr>\n",
       "      <th>2024-05-14 19:30:00</th>\n",
       "      <td>61630.20</td>\n",
       "      <td>61653.71</td>\n",
       "      <td>61545.77</td>\n",
       "      <td>61653.70</td>\n",
       "      <td>132.762900</td>\n",
       "    </tr>\n",
       "    <tr>\n",
       "      <th>2024-05-14 19:45:00</th>\n",
       "      <td>61653.70</td>\n",
       "      <td>61659.99</td>\n",
       "      <td>61630.00</td>\n",
       "      <td>61630.01</td>\n",
       "      <td>43.558270</td>\n",
       "    </tr>\n",
       "  </tbody>\n",
       "</table>\n",
       "<p>235850 rows × 5 columns</p>\n",
       "</div>"
      ],
      "text/plain": [
       "                         Open      High       Low     Close      Volume\n",
       "Time                                                                   \n",
       "2017-08-17 04:15:00   4261.48   4270.41   4261.32   4261.45    9.119865\n",
       "2017-08-17 04:30:00   4280.00   4310.07   4267.99   4310.07   21.923552\n",
       "2017-08-17 04:45:00   4310.07   4313.62   4291.37   4308.83   13.948531\n",
       "2017-08-17 05:00:00   4308.83   4328.69   4304.31   4304.31    5.101153\n",
       "2017-08-17 05:15:00   4320.00   4320.00   4312.14   4320.00   15.947495\n",
       "...                       ...       ...       ...       ...         ...\n",
       "2024-05-14 18:45:00  61383.67  61454.55  61360.13  61429.99  114.040440\n",
       "2024-05-14 19:00:00  61430.00  61498.00  61397.20  61462.14  110.609470\n",
       "2024-05-14 19:15:00  61462.14  61635.92  61425.26  61630.20  154.080710\n",
       "2024-05-14 19:30:00  61630.20  61653.71  61545.77  61653.70  132.762900\n",
       "2024-05-14 19:45:00  61653.70  61659.99  61630.00  61630.01   43.558270\n",
       "\n",
       "[235850 rows x 5 columns]"
      ]
     },
     "execution_count": 7,
     "metadata": {},
     "output_type": "execute_result"
    }
   ],
   "source": [
    "df = pd.DataFrame(btc)\n",
    "df = df.iloc[:,:6]\n",
    "df.columns = [\"Time\",\"Open\",\"High\",\"Low\",\"Close\",\"Volume\"]\n",
    "df = df.set_index(\"Time\")\n",
    "df.index = pd.to_datetime(df.index,unit=\"ms\")\n",
    "df = df.astype(float)\n",
    "df = df.iloc[1:,:]\n",
    "df"
   ]
  },
  {
   "cell_type": "markdown",
   "id": "e6b96dd0",
   "metadata": {},
   "source": [
    "## ETH"
   ]
  },
  {
   "cell_type": "markdown",
   "id": "52a47679",
   "metadata": {},
   "source": [
    "### Importando dados do ETH"
   ]
  },
  {
   "cell_type": "code",
   "execution_count": 8,
   "id": "7bc53fd9",
   "metadata": {
    "collapsed": true
   },
   "outputs": [
    {
     "data": {
      "text/plain": [
      ]
     },
     "execution_count": 8,
     "metadata": {},
     "output_type": "execute_result"
    }
   ],
   "source": [
    "eth = client.get_historical_klines(\"ETHUSDT\", Client.KLINE_INTERVAL_15MINUTE, \"1 Jan, 2017\")\n",
    "eth"
   ]
  },
  {
   "cell_type": "markdown",
   "id": "9db5ea5d",
   "metadata": {},
   "source": [
    "### Realizando a otimização do DataFrame"
   ]
  },
  {
   "cell_type": "markdown",
   "id": "57a9c468",
   "metadata": {},
   "source": [
    "1) Definimos a variável\n",
    "2) Usamos o iloc para selecionar as linhas e colunas\n",
    "3) Colocamos nome nas colunas\n",
    "4) Definimos a coluna \"Time\" como index\n",
    "5) Convertemos o índice (coluna \"Time\") para o formato de data e hora e adicionamos o parametro de milisegundos\n",
    "6) COnvertemos o valores para float\n",
    "7) Excluimos a primeira linha do DataFrame"
   ]
  },
  {
   "cell_type": "code",
   "execution_count": 9,
   "id": "1e54652a",
   "metadata": {
    "collapsed": true
   },
   "outputs": [
    {
     "data": {
      "text/html": [
       "<div>\n",
       "<style scoped>\n",
       "    .dataframe tbody tr th:only-of-type {\n",
       "        vertical-align: middle;\n",
       "    }\n",
       "\n",
       "    .dataframe tbody tr th {\n",
       "        vertical-align: top;\n",
       "    }\n",
       "\n",
       "    .dataframe thead th {\n",
       "        text-align: right;\n",
       "    }\n",
       "</style>\n",
       "<table border=\"1\" class=\"dataframe\">\n",
       "  <thead>\n",
       "    <tr style=\"text-align: right;\">\n",
       "      <th></th>\n",
       "      <th>Open</th>\n",
       "      <th>High</th>\n",
       "      <th>Low</th>\n",
       "      <th>Close</th>\n",
       "      <th>Volume</th>\n",
       "    </tr>\n",
       "    <tr>\n",
       "      <th>Time</th>\n",
       "      <th></th>\n",
       "      <th></th>\n",
       "      <th></th>\n",
       "      <th></th>\n",
       "      <th></th>\n",
       "    </tr>\n",
       "  </thead>\n",
       "  <tbody>\n",
       "    <tr>\n",
       "      <th>2017-08-17 04:15:00</th>\n",
       "      <td>298.00</td>\n",
       "      <td>300.80</td>\n",
       "      <td>298.00</td>\n",
       "      <td>299.39</td>\n",
       "      <td>31.44065</td>\n",
       "    </tr>\n",
       "    <tr>\n",
       "      <th>2017-08-17 04:30:00</th>\n",
       "      <td>299.39</td>\n",
       "      <td>300.79</td>\n",
       "      <td>299.39</td>\n",
       "      <td>299.60</td>\n",
       "      <td>52.93579</td>\n",
       "    </tr>\n",
       "    <tr>\n",
       "      <th>2017-08-17 04:45:00</th>\n",
       "      <td>299.60</td>\n",
       "      <td>302.57</td>\n",
       "      <td>299.60</td>\n",
       "      <td>301.61</td>\n",
       "      <td>35.49066</td>\n",
       "    </tr>\n",
       "    <tr>\n",
       "      <th>2017-08-17 05:00:00</th>\n",
       "      <td>301.61</td>\n",
       "      <td>302.57</td>\n",
       "      <td>300.95</td>\n",
       "      <td>302.01</td>\n",
       "      <td>81.69235</td>\n",
       "    </tr>\n",
       "    <tr>\n",
       "      <th>2017-08-17 05:15:00</th>\n",
       "      <td>302.01</td>\n",
       "      <td>303.28</td>\n",
       "      <td>300.00</td>\n",
       "      <td>302.21</td>\n",
       "      <td>150.11387</td>\n",
       "    </tr>\n",
       "    <tr>\n",
       "      <th>...</th>\n",
       "      <td>...</td>\n",
       "      <td>...</td>\n",
       "      <td>...</td>\n",
       "      <td>...</td>\n",
       "      <td>...</td>\n",
       "    </tr>\n",
       "    <tr>\n",
       "      <th>2024-05-14 18:45:00</th>\n",
       "      <td>2884.61</td>\n",
       "      <td>2887.91</td>\n",
       "      <td>2882.41</td>\n",
       "      <td>2887.57</td>\n",
       "      <td>1290.39060</td>\n",
       "    </tr>\n",
       "    <tr>\n",
       "      <th>2024-05-14 19:00:00</th>\n",
       "      <td>2887.58</td>\n",
       "      <td>2893.65</td>\n",
       "      <td>2886.21</td>\n",
       "      <td>2890.84</td>\n",
       "      <td>1635.66410</td>\n",
       "    </tr>\n",
       "    <tr>\n",
       "      <th>2024-05-14 19:15:00</th>\n",
       "      <td>2890.85</td>\n",
       "      <td>2897.85</td>\n",
       "      <td>2888.32</td>\n",
       "      <td>2897.79</td>\n",
       "      <td>1826.85270</td>\n",
       "    </tr>\n",
       "    <tr>\n",
       "      <th>2024-05-14 19:30:00</th>\n",
       "      <td>2897.80</td>\n",
       "      <td>2897.80</td>\n",
       "      <td>2892.20</td>\n",
       "      <td>2897.79</td>\n",
       "      <td>978.72960</td>\n",
       "    </tr>\n",
       "    <tr>\n",
       "      <th>2024-05-14 19:45:00</th>\n",
       "      <td>2897.79</td>\n",
       "      <td>2897.80</td>\n",
       "      <td>2893.20</td>\n",
       "      <td>2895.97</td>\n",
       "      <td>578.40640</td>\n",
       "    </tr>\n",
       "  </tbody>\n",
       "</table>\n",
       "<p>235850 rows × 5 columns</p>\n",
       "</div>"
      ],
      "text/plain": [
       "                        Open     High      Low    Close      Volume\n",
       "Time                                                               \n",
       "2017-08-17 04:15:00   298.00   300.80   298.00   299.39    31.44065\n",
       "2017-08-17 04:30:00   299.39   300.79   299.39   299.60    52.93579\n",
       "2017-08-17 04:45:00   299.60   302.57   299.60   301.61    35.49066\n",
       "2017-08-17 05:00:00   301.61   302.57   300.95   302.01    81.69235\n",
       "2017-08-17 05:15:00   302.01   303.28   300.00   302.21   150.11387\n",
       "...                      ...      ...      ...      ...         ...\n",
       "2024-05-14 18:45:00  2884.61  2887.91  2882.41  2887.57  1290.39060\n",
       "2024-05-14 19:00:00  2887.58  2893.65  2886.21  2890.84  1635.66410\n",
       "2024-05-14 19:15:00  2890.85  2897.85  2888.32  2897.79  1826.85270\n",
       "2024-05-14 19:30:00  2897.80  2897.80  2892.20  2897.79   978.72960\n",
       "2024-05-14 19:45:00  2897.79  2897.80  2893.20  2895.97   578.40640\n",
       "\n",
       "[235850 rows x 5 columns]"
      ]
     },
     "execution_count": 9,
     "metadata": {},
     "output_type": "execute_result"
    }
   ],
   "source": [
    "dff = pd.DataFrame(eth)\n",
    "dff = dff.iloc[:,:6]\n",
    "dff.columns = [\"Time\",\"Open\",\"High\",\"Low\",\"Close\",\"Volume\"]\n",
    "dff = dff.set_index(\"Time\")\n",
    "dff.index = pd.to_datetime(dff.index,unit=\"ms\")\n",
    "dff = dff.astype(float)\n",
    "dff = dff.iloc[1:,:]\n",
    "dff"
   ]
  },
  {
   "cell_type": "markdown",
   "id": "a0315377",
   "metadata": {},
   "source": [
    "## BNB"
   ]
  },
  {
   "cell_type": "markdown",
   "id": "74188dc5",
   "metadata": {},
   "source": [
    "### Importando dados do BNB"
   ]
  },
  {
   "cell_type": "code",
   "execution_count": 10,
   "id": "4c5bd090",
   "metadata": {
    "collapsed": true
   },
   "outputs": [
    {
     "data": {
      "text/plain": [
      ]
     },
     "execution_count": 10,
     "metadata": {},
     "output_type": "execute_result"
    }
   ],
   "source": [
    "bnb = client.get_historical_klines(\"BNBUSDT\", Client.KLINE_INTERVAL_15MINUTE, \"1 Jan, 2017\")\n",
    "bnb"
   ]
  },
  {
   "cell_type": "markdown",
   "id": "d32239fa",
   "metadata": {},
   "source": [
    "### Realizando a otimização do DataFrame\n",
    "1) Definimos a variável\n",
    "2) Usamos o iloc para selecionar as linhas e colunas\n",
    "3) Colocamos nome nas colunas\n",
    "4) Definimos a coluna \"Time\" como index\n",
    "5) Convertemos o índice (coluna \"Time\") para o formato de data e hora e adicionamos o parametro de milisegundos\n",
    "6) COnvertemos o valores para float\n",
    "7) Excluimos a primeira linha do DataFrame"
   ]
  },
  {
   "cell_type": "code",
   "execution_count": 11,
   "id": "7463829d",
   "metadata": {
    "collapsed": true
   },
   "outputs": [
    {
     "data": {
      "text/html": [
       "<div>\n",
       "<style scoped>\n",
       "    .dataframe tbody tr th:only-of-type {\n",
       "        vertical-align: middle;\n",
       "    }\n",
       "\n",
       "    .dataframe tbody tr th {\n",
       "        vertical-align: top;\n",
       "    }\n",
       "\n",
       "    .dataframe thead th {\n",
       "        text-align: right;\n",
       "    }\n",
       "</style>\n",
       "<table border=\"1\" class=\"dataframe\">\n",
       "  <thead>\n",
       "    <tr style=\"text-align: right;\">\n",
       "      <th></th>\n",
       "      <th>Open</th>\n",
       "      <th>High</th>\n",
       "      <th>Low</th>\n",
       "      <th>Close</th>\n",
       "      <th>Volume</th>\n",
       "    </tr>\n",
       "    <tr>\n",
       "      <th>Time</th>\n",
       "      <th></th>\n",
       "      <th></th>\n",
       "      <th></th>\n",
       "      <th></th>\n",
       "      <th></th>\n",
       "    </tr>\n",
       "  </thead>\n",
       "  <tbody>\n",
       "    <tr>\n",
       "      <th>2017-11-06 03:45:00</th>\n",
       "      <td>1.5000</td>\n",
       "      <td>1.7990</td>\n",
       "      <td>0.5000</td>\n",
       "      <td>1.7000</td>\n",
       "      <td>649.120</td>\n",
       "    </tr>\n",
       "    <tr>\n",
       "      <th>2017-11-06 04:00:00</th>\n",
       "      <td>1.3000</td>\n",
       "      <td>1.6500</td>\n",
       "      <td>1.3000</td>\n",
       "      <td>1.5400</td>\n",
       "      <td>2414.100</td>\n",
       "    </tr>\n",
       "    <tr>\n",
       "      <th>2017-11-06 04:15:00</th>\n",
       "      <td>1.5441</td>\n",
       "      <td>1.6300</td>\n",
       "      <td>1.5441</td>\n",
       "      <td>1.5445</td>\n",
       "      <td>3924.380</td>\n",
       "    </tr>\n",
       "    <tr>\n",
       "      <th>2017-11-06 04:30:00</th>\n",
       "      <td>1.5735</td>\n",
       "      <td>1.5735</td>\n",
       "      <td>1.5450</td>\n",
       "      <td>1.5450</td>\n",
       "      <td>1470.940</td>\n",
       "    </tr>\n",
       "    <tr>\n",
       "      <th>2017-11-06 04:45:00</th>\n",
       "      <td>1.5451</td>\n",
       "      <td>1.6479</td>\n",
       "      <td>1.5451</td>\n",
       "      <td>1.6479</td>\n",
       "      <td>338.300</td>\n",
       "    </tr>\n",
       "    <tr>\n",
       "      <th>...</th>\n",
       "      <td>...</td>\n",
       "      <td>...</td>\n",
       "      <td>...</td>\n",
       "      <td>...</td>\n",
       "      <td>...</td>\n",
       "    </tr>\n",
       "    <tr>\n",
       "      <th>2024-05-14 18:45:00</th>\n",
       "      <td>567.0000</td>\n",
       "      <td>567.6000</td>\n",
       "      <td>566.7000</td>\n",
       "      <td>567.2000</td>\n",
       "      <td>1114.098</td>\n",
       "    </tr>\n",
       "    <tr>\n",
       "      <th>2024-05-14 19:00:00</th>\n",
       "      <td>567.3000</td>\n",
       "      <td>568.5000</td>\n",
       "      <td>567.2000</td>\n",
       "      <td>568.0000</td>\n",
       "      <td>1571.032</td>\n",
       "    </tr>\n",
       "    <tr>\n",
       "      <th>2024-05-14 19:15:00</th>\n",
       "      <td>568.0000</td>\n",
       "      <td>569.0000</td>\n",
       "      <td>567.4000</td>\n",
       "      <td>568.9000</td>\n",
       "      <td>1511.105</td>\n",
       "    </tr>\n",
       "    <tr>\n",
       "      <th>2024-05-14 19:30:00</th>\n",
       "      <td>568.9000</td>\n",
       "      <td>569.2000</td>\n",
       "      <td>568.2000</td>\n",
       "      <td>569.2000</td>\n",
       "      <td>2864.174</td>\n",
       "    </tr>\n",
       "    <tr>\n",
       "      <th>2024-05-14 19:45:00</th>\n",
       "      <td>569.1000</td>\n",
       "      <td>569.7000</td>\n",
       "      <td>569.0000</td>\n",
       "      <td>569.1000</td>\n",
       "      <td>859.332</td>\n",
       "    </tr>\n",
       "  </tbody>\n",
       "</table>\n",
       "<p>228103 rows × 5 columns</p>\n",
       "</div>"
      ],
      "text/plain": [
       "                         Open      High       Low     Close    Volume\n",
       "Time                                                                 \n",
       "2017-11-06 03:45:00    1.5000    1.7990    0.5000    1.7000   649.120\n",
       "2017-11-06 04:00:00    1.3000    1.6500    1.3000    1.5400  2414.100\n",
       "2017-11-06 04:15:00    1.5441    1.6300    1.5441    1.5445  3924.380\n",
       "2017-11-06 04:30:00    1.5735    1.5735    1.5450    1.5450  1470.940\n",
       "2017-11-06 04:45:00    1.5451    1.6479    1.5451    1.6479   338.300\n",
       "...                       ...       ...       ...       ...       ...\n",
       "2024-05-14 18:45:00  567.0000  567.6000  566.7000  567.2000  1114.098\n",
       "2024-05-14 19:00:00  567.3000  568.5000  567.2000  568.0000  1571.032\n",
       "2024-05-14 19:15:00  568.0000  569.0000  567.4000  568.9000  1511.105\n",
       "2024-05-14 19:30:00  568.9000  569.2000  568.2000  569.2000  2864.174\n",
       "2024-05-14 19:45:00  569.1000  569.7000  569.0000  569.1000   859.332\n",
       "\n",
       "[228103 rows x 5 columns]"
      ]
     },
     "execution_count": 11,
     "metadata": {},
     "output_type": "execute_result"
    }
   ],
   "source": [
    "df_bnb = pd.DataFrame(bnb)\n",
    "df_bnb = df_bnb.iloc[:,:6]\n",
    "df_bnb.columns = [\"Time\",\"Open\",\"High\",\"Low\",\"Close\",\"Volume\"]\n",
    "df_bnb = df_bnb.set_index(\"Time\")\n",
    "df_bnb.index = pd.to_datetime(df_bnb.index,unit=\"ms\")\n",
    "df_bnb = df_bnb.astype(float)\n",
    "df_bnb"
   ]
  },
  {
   "cell_type": "markdown",
   "id": "f24b2fb8",
   "metadata": {},
   "source": [
    "## SOL"
   ]
  },
  {
   "cell_type": "markdown",
   "id": "592e6198",
   "metadata": {},
   "source": [
    "### Importando dados do SOL"
   ]
  },
  {
   "cell_type": "code",
   "execution_count": 12,
   "id": "480fea1d",
   "metadata": {
    "collapsed": true
   },
   "outputs": [
    {
     "data": {
      "text/plain": [
      ]
     },
     "execution_count": 12,
     "metadata": {},
     "output_type": "execute_result"
    }
   ],
   "source": [
    "sol = client.get_historical_klines(\"SOLUSDT\", Client.KLINE_INTERVAL_15MINUTE, \"1 Jan, 2017\")\n",
    "sol"
   ]
  },
  {
   "cell_type": "markdown",
   "id": "71748483",
   "metadata": {},
   "source": [
    "### Realizando a otimização do DataFrame\n",
    "1) Definimos a variável\n",
    "2) Usamos o iloc para selecionar as linhas e colunas\n",
    "3) Colocamos nome nas colunas\n",
    "4) Definimos a coluna \"Time\" como index\n",
    "5) Convertemos o índice (coluna \"Time\") para o formato de data e hora e adicionamos o parametro de milisegundos\n",
    "6) COnvertemos o valores para float\n",
    "7) Excluimos a primeira linha do DataFrame"
   ]
  },
  {
   "cell_type": "code",
   "execution_count": 13,
   "id": "2bda3b09",
   "metadata": {
    "collapsed": true
   },
   "outputs": [
    {
     "data": {
      "text/html": [
       "<div>\n",
       "<style scoped>\n",
       "    .dataframe tbody tr th:only-of-type {\n",
       "        vertical-align: middle;\n",
       "    }\n",
       "\n",
       "    .dataframe tbody tr th {\n",
       "        vertical-align: top;\n",
       "    }\n",
       "\n",
       "    .dataframe thead th {\n",
       "        text-align: right;\n",
       "    }\n",
       "</style>\n",
       "<table border=\"1\" class=\"dataframe\">\n",
       "  <thead>\n",
       "    <tr style=\"text-align: right;\">\n",
       "      <th></th>\n",
       "      <th>Open</th>\n",
       "      <th>High</th>\n",
       "      <th>Low</th>\n",
       "      <th>Close</th>\n",
       "      <th>Volume</th>\n",
       "    </tr>\n",
       "    <tr>\n",
       "      <th>Time</th>\n",
       "      <th></th>\n",
       "      <th></th>\n",
       "      <th></th>\n",
       "      <th></th>\n",
       "      <th></th>\n",
       "    </tr>\n",
       "  </thead>\n",
       "  <tbody>\n",
       "    <tr>\n",
       "      <th>2020-08-11 06:00:00</th>\n",
       "      <td>2.8500</td>\n",
       "      <td>3.4700</td>\n",
       "      <td>2.8500</td>\n",
       "      <td>3.1655</td>\n",
       "      <td>6115.820</td>\n",
       "    </tr>\n",
       "    <tr>\n",
       "      <th>2020-08-11 06:15:00</th>\n",
       "      <td>3.1655</td>\n",
       "      <td>3.3564</td>\n",
       "      <td>3.1358</td>\n",
       "      <td>3.1360</td>\n",
       "      <td>2813.110</td>\n",
       "    </tr>\n",
       "    <tr>\n",
       "      <th>2020-08-11 06:30:00</th>\n",
       "      <td>3.1360</td>\n",
       "      <td>3.1360</td>\n",
       "      <td>2.9054</td>\n",
       "      <td>2.9665</td>\n",
       "      <td>9207.640</td>\n",
       "    </tr>\n",
       "    <tr>\n",
       "      <th>2020-08-11 06:45:00</th>\n",
       "      <td>3.0033</td>\n",
       "      <td>3.0113</td>\n",
       "      <td>2.9515</td>\n",
       "      <td>2.9515</td>\n",
       "      <td>1895.690</td>\n",
       "    </tr>\n",
       "    <tr>\n",
       "      <th>2020-08-11 07:00:00</th>\n",
       "      <td>2.9515</td>\n",
       "      <td>3.1355</td>\n",
       "      <td>2.9515</td>\n",
       "      <td>3.0310</td>\n",
       "      <td>5723.440</td>\n",
       "    </tr>\n",
       "    <tr>\n",
       "      <th>...</th>\n",
       "      <td>...</td>\n",
       "      <td>...</td>\n",
       "      <td>...</td>\n",
       "      <td>...</td>\n",
       "      <td>...</td>\n",
       "    </tr>\n",
       "    <tr>\n",
       "      <th>2024-05-14 18:45:00</th>\n",
       "      <td>143.6800</td>\n",
       "      <td>143.8900</td>\n",
       "      <td>143.4600</td>\n",
       "      <td>143.8700</td>\n",
       "      <td>6981.703</td>\n",
       "    </tr>\n",
       "    <tr>\n",
       "      <th>2024-05-14 19:00:00</th>\n",
       "      <td>143.8700</td>\n",
       "      <td>144.0000</td>\n",
       "      <td>143.6200</td>\n",
       "      <td>143.9600</td>\n",
       "      <td>18179.510</td>\n",
       "    </tr>\n",
       "    <tr>\n",
       "      <th>2024-05-14 19:15:00</th>\n",
       "      <td>143.9500</td>\n",
       "      <td>144.6800</td>\n",
       "      <td>143.8000</td>\n",
       "      <td>144.6600</td>\n",
       "      <td>16577.891</td>\n",
       "    </tr>\n",
       "    <tr>\n",
       "      <th>2024-05-14 19:30:00</th>\n",
       "      <td>144.6500</td>\n",
       "      <td>144.6800</td>\n",
       "      <td>144.0700</td>\n",
       "      <td>144.4900</td>\n",
       "      <td>21671.919</td>\n",
       "    </tr>\n",
       "    <tr>\n",
       "      <th>2024-05-14 19:45:00</th>\n",
       "      <td>144.4800</td>\n",
       "      <td>144.5200</td>\n",
       "      <td>143.9000</td>\n",
       "      <td>143.9700</td>\n",
       "      <td>9395.457</td>\n",
       "    </tr>\n",
       "  </tbody>\n",
       "</table>\n",
       "<p>131674 rows × 5 columns</p>\n",
       "</div>"
      ],
      "text/plain": [
       "                         Open      High       Low     Close     Volume\n",
       "Time                                                                  \n",
       "2020-08-11 06:00:00    2.8500    3.4700    2.8500    3.1655   6115.820\n",
       "2020-08-11 06:15:00    3.1655    3.3564    3.1358    3.1360   2813.110\n",
       "2020-08-11 06:30:00    3.1360    3.1360    2.9054    2.9665   9207.640\n",
       "2020-08-11 06:45:00    3.0033    3.0113    2.9515    2.9515   1895.690\n",
       "2020-08-11 07:00:00    2.9515    3.1355    2.9515    3.0310   5723.440\n",
       "...                       ...       ...       ...       ...        ...\n",
       "2024-05-14 18:45:00  143.6800  143.8900  143.4600  143.8700   6981.703\n",
       "2024-05-14 19:00:00  143.8700  144.0000  143.6200  143.9600  18179.510\n",
       "2024-05-14 19:15:00  143.9500  144.6800  143.8000  144.6600  16577.891\n",
       "2024-05-14 19:30:00  144.6500  144.6800  144.0700  144.4900  21671.919\n",
       "2024-05-14 19:45:00  144.4800  144.5200  143.9000  143.9700   9395.457\n",
       "\n",
       "[131674 rows x 5 columns]"
      ]
     },
     "execution_count": 13,
     "metadata": {},
     "output_type": "execute_result"
    }
   ],
   "source": [
    "df_sol = pd.DataFrame(sol)\n",
    "df_sol = df_sol.iloc[:,:6]\n",
    "df_sol.columns = [\"Time\",\"Open\",\"High\",\"Low\",\"Close\",\"Volume\"]\n",
    "df_sol = df_sol.set_index(\"Time\")\n",
    "df_sol.index = pd.to_datetime(df_sol.index,unit=\"ms\")\n",
    "df_sol = df_sol.astype(float)\n",
    "df_sol"
   ]
  },
  {
   "cell_type": "markdown",
   "id": "ad58a396",
   "metadata": {},
   "source": [
    "## ADA"
   ]
  },
  {
   "cell_type": "markdown",
   "id": "5b8b7e39",
   "metadata": {},
   "source": [
    "### Importando dados do ADA"
   ]
  },
  {
   "cell_type": "code",
   "execution_count": null,
   "id": "8ce671c1",
   "metadata": {},
   "outputs": [],
   "source": [
    "ada = client.get_historical_klines(\"ADAUSDT\", Client.KLINE_INTERVAL_15MINUTE, \"1 Jan, 2017\")\n",
    "ada"
   ]
  },
  {
   "cell_type": "markdown",
   "id": "721f0440",
   "metadata": {},
   "source": [
    "### Realizando a otimização do DataFrame\n",
    "1) Definimos a variável\n",
    "2) Usamos o iloc para selecionar as linhas e colunas\n",
    "3) Colocamos nome nas colunas\n",
    "4) Definimos a coluna \"Time\" como index\n",
    "5) Convertemos o índice (coluna \"Time\") para o formato de data e hora e adicionamos o parametro de milisegundos\n",
    "6) COnvertemos o valores para float\n",
    "7) Excluimos a primeira linha do DataFrame"
   ]
  },
  {
   "cell_type": "code",
   "execution_count": null,
   "id": "95b8e435",
   "metadata": {},
   "outputs": [],
   "source": [
    "df_ada = pd.DataFrame(ada)\n",
    "df_ada = df_ada.iloc[:,:6]\n",
    "df_ada.columns = [\"Time\",\"Open\",\"High\",\"Low\",\"Close\",\"Volume\"]\n",
    "df_ada = df_ada.set_index(\"Time\")\n",
    "df_ada.index = pd.to_datetime(df_ada.index,unit=\"ms\")\n",
    "df_ada = df_ada.astype(float)\n",
    "df_ada"
   ]
  },
  {
   "cell_type": "markdown",
   "id": "8497df56",
   "metadata": {},
   "source": [
    "## Juntando as colunas \"Close\" dos ativos em um novo Data Frame"
   ]
  },
  {
   "cell_type": "code",
   "execution_count": null,
   "id": "10340f19",
   "metadata": {},
   "outputs": [],
   "source": [
    "dfs=pd.DataFrame({\"BTC\": df[\"Close\"],\n",
    "                  \"ETH\": dff[\"Close\"],\n",
    "                  \"BNB\":df_bnb[\"Close\"],\n",
    "                  \"SOL\":df_sol[\"Close\"],\n",
    "                  \"ADA\":df_ada[\"Close\"]})\n",
    "dfs"
   ]
  },
  {
   "cell_type": "markdown",
   "id": "7f006525",
   "metadata": {},
   "source": [
    "## Utilizando a biblioteca sweetviz"
   ]
  },
  {
   "cell_type": "markdown",
   "id": "998e235f",
   "metadata": {},
   "source": [
    "#### Vamos usar a função analyze da biblioteca para plotarmos os gráficos e suas conclusões"
   ]
  },
  {
   "cell_type": "code",
   "execution_count": null,
   "id": "4ab1bb79",
   "metadata": {},
   "outputs": [],
   "source": [
    "visual = sv.analyze(dfs)"
   ]
  },
  {
   "cell_type": "markdown",
   "id": "0b3e3aa6",
   "metadata": {},
   "source": [
    "#### Vamos salvar a página HTML com um nome , neste caso usamos o nome \"Influencia.html\""
   ]
  },
  {
   "cell_type": "code",
   "execution_count": null,
   "id": "e44b223e",
   "metadata": {},
   "outputs": [],
   "source": [
    "visual.show_html(\"Influencia.html\")"
   ]
  },
  {
   "cell_type": "code",
   "execution_count": null,
   "id": "8682997e",
   "metadata": {},
   "outputs": [],
   "source": []
  }
 ],
 "metadata": {
  "kernelspec": {
   "display_name": "Python 3 (ipykernel)",
   "language": "python",
   "name": "python3"
  },
  "language_info": {
   "codemirror_mode": {
    "name": "ipython",
    "version": 3
   },
   "file_extension": ".py",
   "mimetype": "text/x-python",
   "name": "python",
   "nbconvert_exporter": "python",
   "pygments_lexer": "ipython3",
   "version": "3.11.5"
  }
 },
 "nbformat": 4,
 "nbformat_minor": 5
}
